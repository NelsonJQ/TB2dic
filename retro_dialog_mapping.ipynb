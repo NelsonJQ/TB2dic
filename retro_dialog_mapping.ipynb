{
 "cells": [
  {
   "cell_type": "markdown",
   "id": "a0b67ad7",
   "metadata": {},
   "source": [
    "# Parser lib"
   ]
  },
  {
   "cell_type": "code",
   "execution_count": 1,
   "id": "8c84b52d",
   "metadata": {},
   "outputs": [
    {
     "name": "stderr",
     "output_type": "stream",
     "text": [
      "Cloning into 'dofus1langextractor'...\n"
     ]
    }
   ],
   "source": [
    "!git clone https://github.com/loonaire/dofus1langextractor.git"
   ]
  },
  {
   "cell_type": "code",
   "execution_count": 10,
   "id": "d18ae539",
   "metadata": {},
   "outputs": [
    {
     "name": "stderr",
     "output_type": "stream",
     "text": [
      "c:\\Users\\Nelso\\Documents\\MundoDoce\\TB2dic\\dofus1langextractor\\swf\\swfparser.py:340: UserWarning: unkonwn tag type: 777\n",
      "  warnings.warn('unkonwn tag type: {}'.format(tag_type))\n",
      "c:\\Users\\Nelso\\Documents\\MundoDoce\\TB2dic\\dofus1langextractor\\swf\\swfparser.py:375: UserWarning: processing FrameLabel tag: Bad reading quantity: started=2766 should=9 ended=2774\n",
      "  warnings.warn('processing {} tag: {}'.format(tag_name, e))\n"
     ]
    }
   ],
   "source": [
    "!python dofus1langextractor/langextractor.py -i \"dataRetro\\resources\\app\\retroclient\\data\\docs\" -o \"output\""
   ]
  },
  {
   "cell_type": "code",
   "execution_count": 16,
   "id": "8a142d8f",
   "metadata": {},
   "outputs": [
    {
     "name": "stderr",
     "output_type": "stream",
     "text": [
      "Traceback (most recent call last):\n",
      "  File \"c:\\Users\\Nelso\\Documents\\MundoDoce\\TB2dic\\dofus1langextractor\\langextractor.py\", line 76, in <module>\n",
      "    extractAllFilesFromPath(inputPath, outputPath, displayOutput)\n",
      "  File \"c:\\Users\\Nelso\\Documents\\MundoDoce\\TB2dic\\dofus1langextractor\\langextractor.py\", line 12, in extractAllFilesFromPath\n",
      "    finalJson = scriptToJson(filename, script)\n",
      "                ^^^^^^^^^^^^^^^^^^^^^^^^^^^^^^\n",
      "  File \"c:\\Users\\Nelso\\Documents\\MundoDoce\\TB2dic\\dofus1langextractor\\dofuslang\\langparser.py\", line 422, in scriptToJson\n",
      "    return addFileInfosToJson(fileType, fileVersion, fileLanguage, convertMapsToJson(script))\n",
      "                                                                   ^^^^^^^^^^^^^^^^^^^^^^^^^\n",
      "  File \"c:\\Users\\Nelso\\Documents\\MundoDoce\\TB2dic\\dofus1langextractor\\dofuslang\\langparser.py\", line 267, in convertMapsToJson\n",
      "    jsonOut = convertAllValidLineObjectToJson(content, ['MA.sa','MA.a','MA.m'], ['MA.sua']) \n",
      "              ^^^^^^^^^^^^^^^^^^^^^^^^^^^^^^^^^^^^^^^^^^^^^^^^^^^^^^^^^^^^^^^^^^^^^^^^^^^^^\n",
      "  File \"c:\\Users\\Nelso\\Documents\\MundoDoce\\TB2dic\\dofus1langextractor\\dofuslang\\langparser.py\", line 36, in convertAllValidLineObjectToJson\n",
      "    jsonContent['value'] = json.loads(addDoubleQuoteToJsonAttrName(validObjectLine.group(2)))\n",
      "                           ^^^^^^^^^^^^^^^^^^^^^^^^^^^^^^^^^^^^^^^^^^^^^^^^^^^^^^^^^^^^^^^^^^\n",
      "  File \"c:\\ProgramData\\miniconda3\\Lib\\json\\__init__.py\", line 346, in loads\n",
      "    return _default_decoder.decode(s)\n",
      "           ^^^^^^^^^^^^^^^^^^^^^^^^^^\n",
      "  File \"c:\\ProgramData\\miniconda3\\Lib\\json\\decoder.py\", line 337, in decode\n",
      "    obj, end = self.raw_decode(s, idx=_w(s, 0).end())\n",
      "               ^^^^^^^^^^^^^^^^^^^^^^^^^^^^^^^^^^^^^^\n",
      "  File \"c:\\ProgramData\\miniconda3\\Lib\\json\\decoder.py\", line 353, in raw_decode\n",
      "    obj, end = self.scan_once(s, idx)\n",
      "               ^^^^^^^^^^^^^^^^^^^^^^\n",
      "json.decoder.JSONDecodeError: Expecting property name enclosed in double quotes: line 1 column 2 (char 1)\n"
     ]
    }
   ],
   "source": [
    "!cd dofus1langextractor && python langextractor.py -i \"..\\lang\\swf\""
   ]
  },
  {
   "cell_type": "code",
   "execution_count": null,
   "id": "fa7b6e88",
   "metadata": {},
   "outputs": [],
   "source": []
  },
  {
   "cell_type": "code",
   "execution_count": 1,
   "id": "565ea717",
   "metadata": {},
   "outputs": [
    {
     "name": "stdout",
     "output_type": "stream",
     "text": [
      "Total NPCs found: 1011\n",
      "\n",
      "First 10 entries:\n",
      "     ID                        Name\n",
      "0  1277                         ???\n",
      "1   549                         ???\n",
      "2    63               Abely Bobeule\n",
      "3   497         Abrazelon Sixgriffe\n",
      "4   729          Acidrik Fenlapanse\n",
      "5   686  Aermyne 'Braco' Scalptaras\n",
      "6   115                     Aga Dou\n",
      "7   980            Agent de Brâkmar\n",
      "8    59               Agrid Shakoku\n",
      "9   601                  Ahenn Peuh\n",
      "\n",
      "Data exported to npc_names.csv\n"
     ]
    }
   ],
   "source": [
    "import json\n",
    "import pandas as pd\n",
    "\n",
    "# Load the NPC JSON file\n",
    "with open('dofus1langextractor/output/npc_fr_1254.json', 'r', encoding='utf-8') as file:\n",
    "    npc_data = json.load(file)\n",
    "\n",
    "# Extract the NPC entries from the \"N.d\" array\n",
    "npc_entries = npc_data['npc']['N.d']\n",
    "\n",
    "# Create lists to store ID and Name data\n",
    "ids = []\n",
    "names = []\n",
    "\n",
    "# Extract ID and Name from each entry\n",
    "for entry in npc_entries:\n",
    "    if 'id' in entry and 'value' in entry and 'n' in entry['value']:\n",
    "        ids.append(entry['id'])\n",
    "        names.append(entry['value']['n'])\n",
    "\n",
    "# Create DataFrame\n",
    "df = pd.DataFrame({\n",
    "    'ID': ids,\n",
    "    'Name': names\n",
    "})\n",
    "\n",
    "# Display first few rows\n",
    "print(f\"Total NPCs found: {len(df)}\")\n",
    "print(\"\\nFirst 10 entries:\")\n",
    "print(df.head(10))\n",
    "\n",
    "# Export to CSV\n",
    "output_file = 'npc_names.csv'\n",
    "df.to_csv(output_file, index=False, encoding='utf-8')\n",
    "print(f\"\\nData exported to {output_file}\")"
   ]
  }
 ],
 "metadata": {
  "kernelspec": {
   "display_name": "base",
   "language": "python",
   "name": "python3"
  },
  "language_info": {
   "codemirror_mode": {
    "name": "ipython",
    "version": 3
   },
   "file_extension": ".py",
   "mimetype": "text/x-python",
   "name": "python",
   "nbconvert_exporter": "python",
   "pygments_lexer": "ipython3",
   "version": "3.12.3"
  }
 },
 "nbformat": 4,
 "nbformat_minor": 5
}
